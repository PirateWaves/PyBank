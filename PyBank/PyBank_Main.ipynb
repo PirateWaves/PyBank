{
 "cells": [
  {
   "cell_type": "code",
   "execution_count": 5,
   "metadata": {},
   "outputs": [
    {
     "data": {
      "text/plain": [
       "\"Jonathan Matos: Homework 2.\\n\\nThis script will use the Pathlib library to set the file path\\nand Python's built-in open() function to read in a text file. Then\\nwrite the contents to an output file.\\n\""
      ]
     },
     "execution_count": 5,
     "metadata": {},
     "output_type": "execute_result"
    }
   ],
   "source": [
    "\"\"\"Jonathan Matos: Homework 2.\n",
    "\n",
    "This script will use the Pathlib library to set the file path\n",
    "and Python's built-in open() function to read in a text file. Then\n",
    "write the contents to an output file.\n",
    "\"\"\""
   ]
  },
  {
   "cell_type": "code",
   "execution_count": 6,
   "metadata": {},
   "outputs": [],
   "source": [
    "# Import from the pathlib library, the main class Path\n",
    "from pathlib import Path\n",
    "import csv"
   ]
  },
  {
   "cell_type": "code",
   "execution_count": 7,
   "metadata": {},
   "outputs": [
    {
     "name": "stdout",
     "output_type": "stream",
     "text": [
      "Current Working Directory: /Users/jonathanmatos/CU-NYC-FIN-PT-08-2019-U-C/02-Homework/02-Python/Instructions/PyBank/Resources\n"
     ]
    }
   ],
   "source": [
    "# Check the current directory where the Python program is executing from\n",
    "print(f\"Current Working Directory: {Path.cwd()}\")"
   ]
  },
  {
   "cell_type": "code",
   "execution_count": 8,
   "metadata": {},
   "outputs": [],
   "source": [
    "# Set the input file path\n",
    "csvpath = Path(\"../Resources/budget_data.csv\")"
   ]
  },
  {
   "cell_type": "code",
   "execution_count": 16,
   "metadata": {},
   "outputs": [],
   "source": [
    "# Set variables\n",
    "value = 0\n",
    "total_profit_loss = 0\n",
    "total_months = 0\n",
    "change = 0\n",
    "dates = []\n",
    "profits = []"
   ]
  },
  {
   "cell_type": "code",
   "execution_count": 17,
   "metadata": {},
   "outputs": [],
   "source": [
    "#Opening and reading the CSV file\n",
    "with open(csvpath, 'r') as csvfile:\n",
    "    csvreader = csv.reader(csvfile, delimiter = \",\")\n",
    "    \n",
    "    #Reading the header row\n",
    "    csv_header = next(csvreader)\n",
    "    \n",
    "    #Reading the first row (so that we track the changes properly)\n",
    "    first_row = next(csvreader)\n",
    "    total_months += 1\n",
    "    total_profit_loss += int(first_row[1])\n",
    "    value = int(first_row[1])\n",
    "    \n",
    "    #Going through each row of data after the header & first row \n",
    "    for row in csvreader:\n",
    "        # Keeping track of the dates\n",
    "        dates.append(row[0])\n",
    "        \n",
    "        # Calculate the change, then add it to list of changes\n",
    "        change = int(row[1])-value\n",
    "        profits.append(change)\n",
    "        value = int(row[1])\n",
    "        \n",
    "        #Total number of months\n",
    "        total_months += 1\n",
    "\n",
    "        #Total net amount of \"Profit/Losses over entire period\"\n",
    "        total_profit_loss = total_profit_loss + int(row[1])"
   ]
  },
  {
   "cell_type": "code",
   "execution_count": 18,
   "metadata": {},
   "outputs": [],
   "source": [
    "    #Greatest increase in profits\n",
    "    greatest_increase = max(profits)\n",
    "    greatest_index = profits.index(greatest_increase)\n",
    "    greatest_date = dates[greatest_index]"
   ]
  },
  {
   "cell_type": "code",
   "execution_count": 19,
   "metadata": {},
   "outputs": [],
   "source": [
    "    #Greatest decrease (lowest increase) in profits \n",
    "    greatest_decrease = min(profits)\n",
    "    worst_index = profits.index(greatest_decrease)\n",
    "    worst_date = dates[worst_index]"
   ]
  },
  {
   "cell_type": "code",
   "execution_count": 20,
   "metadata": {},
   "outputs": [],
   "source": [
    "    #Average change in \"Profit/Losses between months over entire period\"\n",
    "    avg_change = sum(profits)/len(profits)"
   ]
  },
  {
   "cell_type": "code",
   "execution_count": 21,
   "metadata": {},
   "outputs": [
    {
     "name": "stdout",
     "output_type": "stream",
     "text": [
      "Financial Analysis\n",
      "---------------------\n",
      "Total Months: 86\n",
      "Total: $38382578\n",
      "Average Change: $-2315.12\n",
      "Greatest Increase in Profits: Feb-2012 ($1926159)\n",
      "Greatest Decrease in Profits: Sep-2013 ($-2196167)\n"
     ]
    }
   ],
   "source": [
    "#Displaying information\n",
    "print(\"Financial Analysis\")\n",
    "print(\"---------------------\")\n",
    "print(f\"Total Months: {str(total_months)}\")\n",
    "print(f\"Total: ${str(total_profit_loss)}\")\n",
    "print(f\"Average Change: ${str(round(avg_change,2))}\")\n",
    "print(f\"Greatest Increase in Profits: {greatest_date} (${str(greatest_increase)})\")\n",
    "print(f\"Greatest Decrease in Profits: {worst_date} (${str(greatest_decrease)})\")"
   ]
  },
  {
   "cell_type": "code",
   "execution_count": 23,
   "metadata": {},
   "outputs": [
    {
     "data": {
      "text/plain": [
       "'\\nI CANNOT figure out this way...........\\n# Output files\\noutput_file = Path(\"../Resources/output_3.txt\")\\n\\nwith open(output_file,\"w\") as file:\\n    \\n# Write methods to print to Financial_Analysis_Summary \\n    file.write(\"Financial Analysis\")\\n    file.write(\"\\n\")\\n    file.write(\"----------------------------\")\\n    file.write(\"\\n\")\\n    file.write(f\"Total Months: {total_months}\")\\n    file.write(\"\\n\")\\n    file.write(f\"Total: $(total_profit)\")\\n    file.write(\"\\n\")\\n    file.write(f\"Average Change: {sum(profits)/len(profits),2}\")\\n    file.write(\"\\n\")\\n    file.write(f\"Greatest Increase in Profits: {total_months[greatest_date]} (${greatest_increase}\")\\n    file.write(\"\\n\")\\n    file.write(f\"Greatest Decrease in Profits: {total_months[greatest_decrease]} (${greatest_decrease}\")'"
      ]
     },
     "execution_count": 23,
     "metadata": {},
     "output_type": "execute_result"
    }
   ],
   "source": [
    "#Exporing to .txt file\n",
    "from pathlib import Path\n",
    "output = open(\"PyBank_Output.txt\", \"w\")\n",
    "\n",
    "line1 = \"Financial Analysis\"\n",
    "line2 = \"---------------------\"\n",
    "line3 = str(f\"Total Months: {str(total_months)}\")\n",
    "line4 = str(f\"Total: ${str(total_profit_loss)}\")\n",
    "line5 = str(f\"Average Change: ${str(round(avg_change,2))}\")\n",
    "line6 = str(f\"Greatest Increase in Profits: {greatest_date} (${str(greatest_increase)})\")\n",
    "line7 = str(f\"Greatest Decrease in Profits: {worst_date} (${str(greatest_decrease)})\")\n",
    "output.write('{}\\n{}\\n{}\\n{}\\n{}\\n{}\\n{}\\n'.format(line1,line2,line3,line4,line5,line6,line7))\n",
    "\n",
    "\"\"\"\n",
    "I CANNOT figure out this way...........\n",
    "# Output files\n",
    "output_file = Path(\"../Resources/output_3.txt\")\n",
    "\n",
    "with open(output_file,\"w\") as file:\n",
    "    \n",
    "# Write methods to print to Financial_Analysis_Summary \n",
    "    file.write(\"Financial Analysis\")\n",
    "    file.write(\"\\n\")\n",
    "    file.write(\"----------------------------\")\n",
    "    file.write(\"\\n\")\n",
    "    file.write(f\"Total Months: {total_months}\")\n",
    "    file.write(\"\\n\")\n",
    "    file.write(f\"Total: $(total_profit)\")\n",
    "    file.write(\"\\n\")\n",
    "    file.write(f\"Average Change: {sum(profits)/len(profits),2}\")\n",
    "    file.write(\"\\n\")\n",
    "    file.write(f\"Greatest Increase in Profits: {total_months[greatest_date]} (${greatest_increase}\")\n",
    "    file.write(\"\\n\")\n",
    "    file.write(f\"Greatest Decrease in Profits: {total_months[greatest_decrease]} (${greatest_decrease}\")\"\"\"\n",
    "\n"
   ]
  },
  {
   "cell_type": "code",
   "execution_count": null,
   "metadata": {},
   "outputs": [],
   "source": []
  },
  {
   "cell_type": "code",
   "execution_count": null,
   "metadata": {},
   "outputs": [],
   "source": []
  }
 ],
 "metadata": {
  "kernelspec": {
   "display_name": "Python 3",
   "language": "python",
   "name": "python3"
  },
  "language_info": {
   "codemirror_mode": {
    "name": "ipython",
    "version": 3
   },
   "file_extension": ".py",
   "mimetype": "text/x-python",
   "name": "python",
   "nbconvert_exporter": "python",
   "pygments_lexer": "ipython3",
   "version": "3.7.3"
  }
 },
 "nbformat": 4,
 "nbformat_minor": 4
}
